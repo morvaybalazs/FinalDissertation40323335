{
 "cells": [
  {
   "attachments": {},
   "cell_type": "markdown",
   "metadata": {},
   "source": [
    "## Function to Search API and Save Top Arguments to Files\n",
    "\n",
    "This is a Python function that searches for the top arguments for each topic in a query topics XML file using an API, and saves the top arguments for each topic to a separate file. It takes four arguments:\n",
    "\n",
    "- `root`: the root element of the query topics XML file.\n",
    "- `output_dir`: the directory where the output files will be saved.\n",
    "- `pageSize`: the page size for the search query.\n",
    "- `url_template`: the URL template for the search query.\n",
    "\n",
    "The function loops through each topic in the query topics XML file, extracts the topic number and title, formats the search URL with the topic title and page size, performs the search query, and extracts the top arguments. For each topic, the function saves the top arguments to a separate file in the specified output directory.\n",
    "\n",
    "### Output\n",
    "The function saves a separate file for the top arguments for each topic in the specified output directory.\n",
    "\n",
    "### Required Libraries\n",
    "The function requires the following Python libraries:\n",
    "\n",
    "- os\n",
    "- requests\n",
    "- xml.etree.ElementTree\n",
    "- pandas"
   ]
  },
  {
   "cell_type": "code",
   "execution_count": null,
   "metadata": {},
   "outputs": [],
   "source": [
    "#Imports\n",
    "import os\n",
    "import requests\n",
    "import xml.etree.ElementTree as ET\n",
    "import pandas as pd"
   ]
  },
  {
   "cell_type": "code",
   "execution_count": null,
   "metadata": {},
   "outputs": [],
   "source": [
    "#Global variables\n",
    "data_path = '/Users/balazs/Desktop/dissertationProjectCode/dissertationCodeBase/'"
   ]
  },
  {
   "cell_type": "code",
   "execution_count": null,
   "metadata": {},
   "outputs": [],
   "source": [
    "# Search API function\n",
    "def search_api(root, output_dir, pageSize, url_template):\n",
    "    # Loop through topics and search for the top 1000 arguments\n",
    "    for topic in root.findall('topic'):\n",
    "        topic_number = topic.find('number')\n",
    "        if topic_number is not None:\n",
    "            topic_id = topic_number.text\n",
    "            topic_title = topic.find('title')\n",
    "            if topic_title is not None and topic_title.text:\n",
    "                topic_title = topic_title.text.strip()\n",
    "            else:\n",
    "                topic_title = ''\n",
    "                \n",
    "            url = url_template.format(topic_title, pageSize)\n",
    "\n",
    "            # Execute the search query using API\n",
    "            response = requests.get(url).json()\n",
    "            results = response['arguments']\n",
    "            print(len(results))\n",
    "            \n",
    "            # Save the top 1000 arguments for the current topic to a file\n",
    "            os.makedirs(output_dir, exist_ok=True)\n",
    "            topic_file_name = os.path.join(output_dir, f\"{topic_id}.txt\")\n",
    "            header = ['id', 'conclusion', 'premises', 'stance', 'rank']\n",
    "            arguments = []\n",
    "            for i, result in enumerate(results):\n",
    "                argument = [result['id'], result['conclusion'], result['premises'][0]['text'], result['stance'], i + 1]\n",
    "                arguments.append(argument)\n",
    "            \n",
    "            retrieved_arguments_pd = pd.DataFrame(arguments, columns=header)\n",
    "            retrieved_arguments_pd.to_csv(topic_file_name, sep='\\t', index=False)"
   ]
  },
  {
   "cell_type": "code",
   "execution_count": null,
   "metadata": {},
   "outputs": [],
   "source": [
    "#Load the XML files for 2020\n",
    "tree20 = ET.parse(data_path + 'Data/topic_files/topics-task-1-2020.xml')\n",
    "root20 = tree20.getroot()\n",
    "\n",
    "#Load the XML files for 2021\n",
    "tree21 = ET.parse(data_path + 'Data/topic_files/topics-task-1-only-titles.xml')\n",
    "root21 = tree21.getroot()\n",
    "\n",
    "#Define the output directories for 2020\n",
    "output_dir20 = data_path + 'Data/arguments_api_retrieved_2020'\n",
    "\n",
    "#Define the output directories for 2021\n",
    "output_dir21 = data_path + 'Data/arguments_api_retrieved_2021'\n",
    "\n",
    "pageSize = 1000\n",
    "url_template = \"https://args.me/api/v2/arguments?query={}&corpora=args-me-2020-04-01&pageSize={}&format=json\""
   ]
  },
  {
   "cell_type": "code",
   "execution_count": null,
   "metadata": {},
   "outputs": [],
   "source": [
    "# Call search functions for 2020\n",
    "search_api(root20, output_dir20, pageSize, url_template)\n",
    "\n",
    "#Call search functions for 2021\n",
    "search_api(root21, output_dir21, pageSize, url_template)"
   ]
  }
 ],
 "metadata": {
  "kernelspec": {
   "display_name": "env_name",
   "language": "python",
   "name": "python3"
  },
  "language_info": {
   "codemirror_mode": {
    "name": "ipython",
    "version": 3
   },
   "file_extension": ".py",
   "mimetype": "text/x-python",
   "name": "python",
   "nbconvert_exporter": "python",
   "pygments_lexer": "ipython3",
   "version": "3.9.16"
  },
  "orig_nbformat": 4
 },
 "nbformat": 4,
 "nbformat_minor": 2
}

{
 "cells": [
  {
   "attachments": {},
   "cell_type": "markdown",
   "metadata": {},
   "source": [
    "## Function to Add Relevance Scores to Feature Files\n",
    "\n",
    "This function that an evaluation file, creates a dataframe, and adds relevance scores to feature files. The function takes three arguments:\n",
    "\n",
    "- `evaluation_file_path`: the path to the evaluation file containing the relevance scores.\n",
    "- `features_dir_path`: the directory path containing the feature files.\n",
    "- `output_dir_path`: the path to the directory where the updated feature files with relevance scores will be saved.\n",
    "\n",
    "This function loops through all the feature files in the directory, reads each file, and merges the relevance scores from the evaluation file into the feature file based on matching topic number and argument ID. If a relevance score is not found, the function drops the row.\n",
    "\n",
    "The updated feature files with relevance scores are saved to a new file in the specified output directory.\n",
    "\n",
    "The docno is additionally saved as a comment at the end of each line.\n",
    "\n",
    "The function prints messages indicating the progress of the relevance score addition process. Once all the feature files have been processed, the function prints a message indicating that the process is finished.\n",
    "\n",
    "### Output\n",
    "The function outputs updated feature files with relevance scores for each feature file in the input directory. The updated feature files are saved in the specified output directory.\n",
    "\n",
    "### Required Libraries\n",
    "The function requires the following Python libraries:\n",
    "\n",
    "- pandas\n",
    "- os"
   ]
  },
  {
   "cell_type": "code",
   "execution_count": 1,
   "metadata": {},
   "outputs": [],
   "source": [
    "#Imports\n",
    "import os\n",
    "import pandas as pd"
   ]
  },
  {
   "cell_type": "code",
   "execution_count": 2,
   "metadata": {},
   "outputs": [],
   "source": [
    "#Global variables\n",
    "data_path = '/Users/balazs/Desktop/dissertationProjectCode/dissertationCodeBase/'"
   ]
  },
  {
   "cell_type": "code",
   "execution_count": 3,
   "metadata": {},
   "outputs": [],
   "source": [
    "def add_relevance_score_to_features(evaluation_file_path, features_dir_path, output_dir_path):\n",
    "    # Read the evaluation file and create a dataframe\n",
    "    evaluation_df = pd.read_csv(evaluation_file_path, header=None, delimiter=' ', names=[\"qid\", \"placeholder\", \"docno\", \"relevance_score\"])\n",
    "    \n",
    "    # Turn all negative relevance scores into 0\n",
    "    evaluation_df.loc[evaluation_df['relevance_score'] < 0, 'relevance_score'] = 0\n",
    "    \n",
    "    # Loop through all the feature extraction files\n",
    "    features_files_path = [os.path.join(features_dir_path, filename) for filename in os.listdir(features_dir_path) if filename.endswith('_features.csv')]\n",
    "    \n",
    "    for features_file_path in features_files_path:\n",
    "        \n",
    "        # Read the current features file\n",
    "        features_df = pd.read_csv(features_file_path, header=0, sep=',')\n",
    "\n",
    "        # Merge the relevance scores into the features dataframe based on matching document number\n",
    "        merged_df = pd.merge(features_df, evaluation_df[[\"docno\", \"relevance_score\"]], on=[\"docno\"], how=\"left\")\n",
    "        merged_df.dropna(subset=[\"relevance_score\"], inplace=True)  # Drop rows where relevance score is not found\n",
    "        \n",
    "        # Save the merged dataframe to a new file in the specified output directory without headers and in CSV format\n",
    "        file_name = os.path.basename(os.path.splitext(features_file_path)[0]) + \"_with_relevance.csv\"\n",
    "        updated_features_file_path = os.path.join(output_dir_path, file_name)\n",
    "        merged_df.to_csv(updated_features_file_path, sep=',', index=False, header=True)\n",
    "\n",
    "    print(\"Relevance scores added to all feature extraction files!\")"
   ]
  },
  {
   "cell_type": "code",
   "execution_count": 4,
   "metadata": {},
   "outputs": [
    {
     "name": "stdout",
     "output_type": "stream",
     "text": [
      "Relevance scores added to all feature extraction files!\n"
     ]
    }
   ],
   "source": [
    "# Paths for adding relevance scores\n",
    "evaluation_file_path = data_path + 'Evaluation/ev_files_21/touche-task1-51-100-relevance.qrels'\n",
    "features_dir_path = data_path + 'Data/features_extracted_2021/lingustic_sentiment_features'\n",
    "output_dir_path = data_path + 'Data/merged_features_relevance_2021/linguistic_sentiment_features_relevance'\n",
    "\n",
    "# Call the function to add relevance scores to the feature extraction files\n",
    "add_relevance_score_to_features(evaluation_file_path, features_dir_path, output_dir_path)"
   ]
  },
  {
   "cell_type": "code",
   "execution_count": 5,
   "metadata": {},
   "outputs": [
    {
     "name": "stdout",
     "output_type": "stream",
     "text": [
      "Relevance scores added to all feature extraction files!\n"
     ]
    }
   ],
   "source": [
    "# Paths for adding relevance scores\n",
    "evaluation_file_path = data_path + 'Evaluation/ev_files_21/touche-task1-51-100-relevance.qrels'\n",
    "features_dir_path = data_path + 'Data/features_extracted_2021/sbert_features'\n",
    "output_dir_path = data_path + \"Data/merged_features_relevance_2021/sbert_features_relevance\"\n",
    "\n",
    "# Call the function to add relevance scores to the feature extraction files\n",
    "add_relevance_score_to_features(evaluation_file_path, features_dir_path, output_dir_path)"
   ]
  },
  {
   "cell_type": "code",
   "execution_count": 6,
   "metadata": {},
   "outputs": [
    {
     "name": "stdout",
     "output_type": "stream",
     "text": [
      "Relevance scores added to all feature extraction files!\n"
     ]
    }
   ],
   "source": [
    "# Paths for adding relevance scores\n",
    "evaluation_file_path = data_path + 'Evaluation/ev_files_21/touche-task1-51-100-relevance.qrels'\n",
    "features_dir_path = data_path + 'Data/features_extracted_2021/sentiment_sarcasm_features'\n",
    "output_dir_path = data_path + \"Data/merged_features_relevance_2021/sentiment_sarcasm_features_relevance\"\n",
    "\n",
    "# Call the function to add relevance scores to the feature extraction files\n",
    "add_relevance_score_to_features(evaluation_file_path, features_dir_path, output_dir_path)"
   ]
  },
  {
   "cell_type": "code",
   "execution_count": 7,
   "metadata": {},
   "outputs": [
    {
     "name": "stdout",
     "output_type": "stream",
     "text": [
      "Relevance scores added to all feature extraction files!\n"
     ]
    }
   ],
   "source": [
    "# Paths for adding relevance scores\n",
    "evaluation_file_path = data_path + 'Evaluation/ev_files_21/touche-task1-51-100-relevance.qrels'\n",
    "features_dir_path = data_path + 'Data/features_extracted_2021/tf_idf_features'\n",
    "output_dir_path = data_path + \"Data/merged_features_relevance_2021/tf_idf_features_relevance\"\n",
    "\n",
    "# Call the function to add relevance scores to the feature extraction files\n",
    "add_relevance_score_to_features(evaluation_file_path, features_dir_path, output_dir_path)"
   ]
  },
  {
   "cell_type": "code",
   "execution_count": null,
   "metadata": {},
   "outputs": [],
   "source": [
    "# Paths for adding relevance scores\n",
    "evaluation_file_path = data_path + 'Evaluation/ev_files_20/touche2020-task1-relevance-args-me-corpus-version-2020-04-01.qrels'\n",
    "features_dir_path = data_path + 'Data/features_extracted_2020/lingustic_sentiment_features'\n",
    "output_dir_path = data_path + \"Data/merged_features_relevance_2020/linguistic_sentiment_features_relevance\"\n",
    "\n",
    "# Call the function to add relevance scores to the feature extraction files\n",
    "#add_relevance_score_to_features(evaluation_file_path, features_dir_path, output_dir_path)"
   ]
  },
  {
   "cell_type": "code",
   "execution_count": 8,
   "metadata": {},
   "outputs": [
    {
     "name": "stdout",
     "output_type": "stream",
     "text": [
      "Relevance scores added to all feature extraction files!\n"
     ]
    }
   ],
   "source": [
    "# Paths for adding relevance scores\n",
    "evaluation_file_path = data_path + 'Evaluation/ev_files_20/touche2020-task1-relevance-args-me-corpus-version-2020-04-01.qrels'\n",
    "features_dir_path = data_path + 'Data/features_extracted_2020/sbert_features'\n",
    "output_dir_path = data_path + \"Data/merged_features_relevance_2020/sbert_features_relevance\"\n",
    "\n",
    "# Call the function to add relevance scores to the feature extraction files\n",
    "add_relevance_score_to_features(evaluation_file_path, features_dir_path, output_dir_path)"
   ]
  },
  {
   "cell_type": "code",
   "execution_count": 9,
   "metadata": {},
   "outputs": [
    {
     "name": "stdout",
     "output_type": "stream",
     "text": [
      "Relevance scores added to all feature extraction files!\n"
     ]
    }
   ],
   "source": [
    "# Paths for adding relevance scores\n",
    "evaluation_file_path = data_path + 'Evaluation/ev_files_20/touche2020-task1-relevance-args-me-corpus-version-2020-04-01.qrels'\n",
    "features_dir_path = data_path + 'Data/features_extracted_2020/sentiment_sarcasm_features'\n",
    "output_dir_path = data_path + \"Data/merged_features_relevance_2020/sentiment_sarcasm_features_relevance\"\n",
    "\n",
    "# Call the function to add relevance scores to the feature extraction files\n",
    "add_relevance_score_to_features(evaluation_file_path, features_dir_path, output_dir_path)"
   ]
  },
  {
   "cell_type": "code",
   "execution_count": 10,
   "metadata": {},
   "outputs": [
    {
     "name": "stdout",
     "output_type": "stream",
     "text": [
      "Relevance scores added to all feature extraction files!\n"
     ]
    }
   ],
   "source": [
    "# Paths for adding relevance scores\n",
    "evaluation_file_path = data_path + 'Evaluation/ev_files_20/touche2020-task1-relevance-args-me-corpus-version-2020-04-01.qrels'\n",
    "features_dir_path = data_path + 'Data/features_extracted_2020/tf_idf_features'\n",
    "output_dir_path = data_path + \"Data/merged_features_relevance_2020/tf_idf_features_relevance\"\n",
    "\n",
    "# Call the function to add relevance scores to the feature extraction files\n",
    "add_relevance_score_to_features(evaluation_file_path, features_dir_path, output_dir_path)"
   ]
  }
 ],
 "metadata": {
  "kernelspec": {
   "display_name": "env_name",
   "language": "python",
   "name": "python3"
  },
  "language_info": {
   "codemirror_mode": {
    "name": "ipython",
    "version": 3
   },
   "file_extension": ".py",
   "mimetype": "text/x-python",
   "name": "python",
   "nbconvert_exporter": "python",
   "pygments_lexer": "ipython3",
   "version": "3.9.16"
  },
  "orig_nbformat": 4
 },
 "nbformat": 4,
 "nbformat_minor": 2
}
